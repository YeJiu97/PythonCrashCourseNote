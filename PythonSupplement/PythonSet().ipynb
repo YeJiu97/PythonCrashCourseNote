{
 "cells": [
  {
   "cell_type": "markdown",
   "id": "d11cac00",
   "metadata": {},
   "source": [
    "## set() 集合"
   ]
  },
  {
   "cell_type": "markdown",
   "id": "f4c6ecb9",
   "metadata": {},
   "source": [
    "在Python语言中，set是一个无序的不重复元素的序列。\n",
    "\n",
    "set的创建方法有两种：\n",
    "\n",
    "1. 大括号{}\n",
    "2. set()\n",
    "\n",
    "需要注意的地方在于如果要创建一个空集合，需要使用set()而不是{}，因为{}会被默认来创建一个空字典。"
   ]
  },
  {
   "cell_type": "code",
   "execution_count": 34,
   "id": "8e3407a9",
   "metadata": {},
   "outputs": [
    {
     "name": "stdout",
     "output_type": "stream",
     "text": [
      "<class 'set'>\n"
     ]
    }
   ],
   "source": [
    "# 用{}来创建一个集合\n",
    "\n",
    "menu = {\"apple\", \"banana\", \"orange\"}\n",
    "print(type(menu))"
   ]
  },
  {
   "cell_type": "code",
   "execution_count": 35,
   "id": "f6961600",
   "metadata": {},
   "outputs": [
    {
     "name": "stdout",
     "output_type": "stream",
     "text": [
      "<class 'set'>\n"
     ]
    }
   ],
   "source": [
    "# 用set()来创建一个集合\n",
    "\n",
    "menuOne = set()\n",
    "print(type(menuOne))"
   ]
  },
  {
   "cell_type": "markdown",
   "id": "89591aae",
   "metadata": {},
   "source": [
    "可以发现创建出来的menu是一个set类型的变量。\n",
    "\n",
    "我们可以尝试一下set的去重复功能："
   ]
  },
  {
   "cell_type": "code",
   "execution_count": 36,
   "id": "64b2322d",
   "metadata": {},
   "outputs": [],
   "source": [
    "menuTwo = {\"apple\", \"banana\", \"orage\", \"apple\"}"
   ]
  },
  {
   "cell_type": "code",
   "execution_count": 37,
   "id": "3d99c2e3",
   "metadata": {},
   "outputs": [
    {
     "name": "stdout",
     "output_type": "stream",
     "text": [
      "{'apple', 'banana', 'orage'}\n"
     ]
    }
   ],
   "source": [
    "print(menuTwo)"
   ]
  },
  {
   "cell_type": "code",
   "execution_count": 38,
   "id": "654947c3",
   "metadata": {},
   "outputs": [
    {
     "data": {
      "text/plain": [
       "{'apple', 'banana', 'orage'}"
      ]
     },
     "execution_count": 38,
     "metadata": {},
     "output_type": "execute_result"
    }
   ],
   "source": [
    "menuTwo"
   ]
  },
  {
   "cell_type": "code",
   "execution_count": 39,
   "id": "6e0ec037",
   "metadata": {},
   "outputs": [
    {
     "name": "stdout",
     "output_type": "stream",
     "text": [
      "3\n"
     ]
    }
   ],
   "source": [
    "print(len(menuTwo))"
   ]
  },
  {
   "cell_type": "markdown",
   "id": "74f65f5a",
   "metadata": {},
   "source": [
    "可以发现set会将序列中的重复的元素自动去除掉。"
   ]
  },
  {
   "cell_type": "markdown",
   "id": "2c48cfd6",
   "metadata": {},
   "source": [
    "我们可以来判断某一个元素是否在set中："
   ]
  },
  {
   "cell_type": "code",
   "execution_count": 40,
   "id": "f2874a59",
   "metadata": {},
   "outputs": [
    {
     "name": "stdout",
     "output_type": "stream",
     "text": [
      "{'a', 'e', 'b', 'c', 'd'}\n"
     ]
    }
   ],
   "source": [
    "strSet = set('abcdeabc')  # 创建一个新的集合 \n",
    "print(strSet)"
   ]
  },
  {
   "cell_type": "code",
   "execution_count": 41,
   "id": "8482a349",
   "metadata": {},
   "outputs": [
    {
     "name": "stdout",
     "output_type": "stream",
     "text": [
      "True\n"
     ]
    }
   ],
   "source": [
    "print ('a' in strSet)"
   ]
  },
  {
   "cell_type": "code",
   "execution_count": 42,
   "id": "7484f663",
   "metadata": {},
   "outputs": [
    {
     "name": "stdout",
     "output_type": "stream",
     "text": [
      "False\n"
     ]
    }
   ],
   "source": [
    "print ('g' in strSet)"
   ]
  },
  {
   "cell_type": "markdown",
   "id": "e44bab1e",
   "metadata": {},
   "source": [
    "两个集合之间可以进行运算：\n",
    "\n",
    "```\n",
    "1. - 表示a集合中包含但是b集合中不包含的元素\n",
    "2. |  a集合和b集合种包含的所有的元素\n",
    "3. & a集合和b集合所共有的元素\n",
    "4. ^ 不被a集合和b集合所共同拥有的元素\n",
    "```\n",
    "\n",
    "演示如下所示："
   ]
  },
  {
   "cell_type": "code",
   "execution_count": 43,
   "id": "6918f342",
   "metadata": {},
   "outputs": [
    {
     "name": "stdout",
     "output_type": "stream",
     "text": [
      "{'4', '5', '6', '1', '3', '2'} {'8', '4', '5', '6', '1', '3', '7', '9', '2'}\n"
     ]
    }
   ],
   "source": [
    "a = set(\"123456\")\n",
    "b = set(\"123456789\")\n",
    "\n",
    "print(a, b)  # 集合是无序的"
   ]
  },
  {
   "cell_type": "code",
   "execution_count": 44,
   "id": "f34b1559",
   "metadata": {},
   "outputs": [
    {
     "name": "stdout",
     "output_type": "stream",
     "text": [
      "{'8', '7', '9'}\n"
     ]
    }
   ],
   "source": [
    "print(b-a)  # 被b包含但是不被a包含的元素"
   ]
  },
  {
   "cell_type": "code",
   "execution_count": 45,
   "id": "db05dd20",
   "metadata": {},
   "outputs": [
    {
     "name": "stdout",
     "output_type": "stream",
     "text": [
      "{'8', '4', '5', '6', '1', '3', '7', '9', '2'}\n"
     ]
    }
   ],
   "source": [
    "print(a|b)  # 被a集合中的元素和b集合中的元素的合集"
   ]
  },
  {
   "cell_type": "code",
   "execution_count": 46,
   "id": "22c1cc84",
   "metadata": {},
   "outputs": [
    {
     "name": "stdout",
     "output_type": "stream",
     "text": [
      "{'5', '4', '6', '1', '3', '2'}\n"
     ]
    }
   ],
   "source": [
    "print(a & b) # a集合和b集合的交集"
   ]
  },
  {
   "cell_type": "code",
   "execution_count": 47,
   "id": "467781fc",
   "metadata": {},
   "outputs": [
    {
     "name": "stdout",
     "output_type": "stream",
     "text": [
      "{'8', '7', '9'}\n"
     ]
    }
   ],
   "source": [
    "print(a ^ b)  # 不同时包含于a和b的元素"
   ]
  },
  {
   "cell_type": "markdown",
   "id": "db57a2ba",
   "metadata": {},
   "source": [
    "集合可以和列表推导式一起进行使用："
   ]
  },
  {
   "cell_type": "code",
   "execution_count": 48,
   "id": "988e3068",
   "metadata": {},
   "outputs": [
    {
     "name": "stdout",
     "output_type": "stream",
     "text": [
      "{0, 2, 4, 6, 8, 10, 12, 14, 16, 18, 20, 22, 24, 26, 28, 30, 32, 34, 36, 38, 40, 42, 44, 46, 48, 50, 52, 54, 56, 58, 60, 62, 64, 66, 68, 70, 72, 74, 76, 78, 80, 82, 84, 86, 88, 90, 92, 94, 96, 98}\n"
     ]
    }
   ],
   "source": [
    "number = {num for num in range(100) if num%2 == 0}\n",
    "print(number)"
   ]
  },
  {
   "cell_type": "markdown",
   "id": "d55cacd6",
   "metadata": {},
   "source": [
    "集合提供了以下的基本操作：\n",
    "\n",
    "1. 添加元素\n",
    "2. 移除算法\n",
    "3. 计算集合元素的个数\n",
    "4. 清空集合\n",
    "\n",
    "我们尝试一下这些基本的操作："
   ]
  },
  {
   "cell_type": "code",
   "execution_count": 49,
   "id": "c117f1a0",
   "metadata": {},
   "outputs": [
    {
     "name": "stdout",
     "output_type": "stream",
     "text": [
      "<class 'set'>\n"
     ]
    }
   ],
   "source": [
    "# 首先创建一个集合\n",
    "\n",
    "companies = {\"Baidu\", \"Google\", \"Alibaba\"}\n",
    "print(type(companies))"
   ]
  },
  {
   "cell_type": "code",
   "execution_count": 50,
   "id": "19f5044a",
   "metadata": {},
   "outputs": [
    {
     "name": "stdout",
     "output_type": "stream",
     "text": [
      "{'Alibaba', 'Baidu', 'Google'}\n"
     ]
    }
   ],
   "source": [
    "print(companies)"
   ]
  },
  {
   "cell_type": "code",
   "execution_count": 52,
   "id": "f4577fc3",
   "metadata": {},
   "outputs": [
    {
     "name": "stdout",
     "output_type": "stream",
     "text": [
      "{'Alibaba', 'MiHoYo', 'Baidu', 'Google'}\n"
     ]
    }
   ],
   "source": [
    "# 我们来添加一个元素\n",
    "\n",
    "companies.add(\"MiHoYo\")\n",
    "print(companies)"
   ]
  },
  {
   "cell_type": "code",
   "execution_count": 54,
   "id": "c2dcb83f",
   "metadata": {},
   "outputs": [
    {
     "name": "stdout",
     "output_type": "stream",
     "text": [
      "{'Alibaba', 'MiHoYo', 'Baidu', 'Google'}\n"
     ]
    }
   ],
   "source": [
    "# 如果添加一个已经在集合种的元素呢？\n",
    "# 将会不执行操作\n",
    "\n",
    "companies.add(\"Baidu\")\n",
    "print(companies)"
   ]
  },
  {
   "cell_type": "code",
   "execution_count": 57,
   "id": "877847cc",
   "metadata": {},
   "outputs": [
    {
     "name": "stdout",
     "output_type": "stream",
     "text": [
      "{1, 2, 3, 'Alibaba', 'MiHoYo', 'Google', 'Baidu'}\n"
     ]
    }
   ],
   "source": [
    "# 如果我们想要添加的是列表之类的数据呢？\n",
    "# 我们可以使用update\n",
    "\n",
    "companies.update([1, 2, 3])\n",
    "print(companies)"
   ]
  },
  {
   "cell_type": "code",
   "execution_count": 58,
   "id": "12552b0c",
   "metadata": {},
   "outputs": [
    {
     "name": "stdout",
     "output_type": "stream",
     "text": [
      "{1, 2, 3, 'Alibaba', 'MiHoYo', 'Baidu'}\n"
     ]
    }
   ],
   "source": [
    "# 接着我们来将元素从集合种移除\n",
    "\n",
    "companies.remove(\"Google\")\n",
    "print(companies)"
   ]
  },
  {
   "cell_type": "code",
   "execution_count": 59,
   "id": "4d68d318",
   "metadata": {},
   "outputs": [
    {
     "ename": "KeyError",
     "evalue": "'12321312'",
     "output_type": "error",
     "traceback": [
      "\u001b[1;31m---------------------------------------------------------------------------\u001b[0m",
      "\u001b[1;31mKeyError\u001b[0m                                  Traceback (most recent call last)",
      "\u001b[1;32m~\\AppData\\Local\\Temp\\ipykernel_12512\\2946037733.py\u001b[0m in \u001b[0;36m<module>\u001b[1;34m\u001b[0m\n\u001b[0;32m      1\u001b[0m \u001b[1;31m# 如果使用remove()函数，倘若括号中的参数不存在在集合中，则会出错\u001b[0m\u001b[1;33m\u001b[0m\u001b[1;33m\u001b[0m\u001b[1;33m\u001b[0m\u001b[0m\n\u001b[1;32m----> 2\u001b[1;33m \u001b[0mcompanies\u001b[0m\u001b[1;33m.\u001b[0m\u001b[0mremove\u001b[0m\u001b[1;33m(\u001b[0m\u001b[1;34m\"12321312\"\u001b[0m\u001b[1;33m)\u001b[0m\u001b[1;33m\u001b[0m\u001b[1;33m\u001b[0m\u001b[0m\n\u001b[0m",
      "\u001b[1;31mKeyError\u001b[0m: '12321312'"
     ]
    }
   ],
   "source": [
    "# 如果使用remove()函数，倘若括号中的参数不存在在集合中，则会出错\n",
    "companies.remove(\"12321312\")"
   ]
  },
  {
   "cell_type": "code",
   "execution_count": 60,
   "id": "6529fbc0",
   "metadata": {},
   "outputs": [],
   "source": [
    "# 我们可以使用discard()函数来实现移除集合中的元素的功能\n",
    "# discard()函数在参数不存在于集合中的时候不会报错\n",
    "\n",
    "companies.discard(\"1231231231\")"
   ]
  },
  {
   "cell_type": "code",
   "execution_count": 61,
   "id": "198379a2",
   "metadata": {},
   "outputs": [
    {
     "name": "stdout",
     "output_type": "stream",
     "text": [
      "1\n"
     ]
    }
   ],
   "source": [
    "# 如果我们需要随机删除一个元素，则可以使用pop()函数来实现\n",
    "\n",
    "x = companies.pop()\n",
    "print(x)"
   ]
  },
  {
   "cell_type": "code",
   "execution_count": 62,
   "id": "b6483809",
   "metadata": {},
   "outputs": [
    {
     "name": "stdout",
     "output_type": "stream",
     "text": [
      "{2, 3, 'Alibaba', 'MiHoYo', 'Baidu'}\n"
     ]
    }
   ],
   "source": [
    "print(companies)"
   ]
  },
  {
   "cell_type": "markdown",
   "id": "d14444d1",
   "metadata": {},
   "source": [
    "如果我们需要清空集合，则可以使用clear()函数来实现"
   ]
  },
  {
   "cell_type": "code",
   "execution_count": 63,
   "id": "9bfb8075",
   "metadata": {},
   "outputs": [
    {
     "name": "stdout",
     "output_type": "stream",
     "text": [
      "set()\n"
     ]
    }
   ],
   "source": [
    "companies.clear()\n",
    "print(companies)"
   ]
  },
  {
   "attachments": {
    "image.png": {
     "image/png": "[encoded data removed]"
    }
   },
   "cell_type": "markdown",
   "id": "760be0f7",
   "metadata": {},
   "source": [
    "set内置的方法完成列表如下所示：\n",
    "\n",
    "![image.png](attachment:image.png)"
   ]
  }
 ],
 "metadata": {
  "kernelspec": {
   "display_name": "Python 3 (ipykernel)",
   "language": "python",
   "name": "python3"
  },
  "language_info": {
   "codemirror_mode": {
    "name": "ipython",
    "version": 3
   },
   "file_extension": ".py",
   "mimetype": "text/x-python",
   "name": "python",
   "nbconvert_exporter": "python",
   "pygments_lexer": "ipython3",
   "version": "3.7.9"
  }
 },
 "nbformat": 4,
 "nbformat_minor": 5
}
