{
 "cells": [
  {
   "cell_type": "markdown",
   "id": "6d24c2b0-9446-41fd-98f1-def00b1f8a5a",
   "metadata": {},
   "source": [
    "## [] 中括号"
   ]
  },
  {
   "cell_type": "markdown",
   "id": "8ee017c8-94e9-4707-aa38-677bd96d013d",
   "metadata": {},
   "source": [
    "Python语言中，中括号 [] 用来表示列表数据类型，列表是一种可变的数据类型。"
   ]
  },
  {
   "cell_type": "code",
   "execution_count": 1,
   "id": "6a55d905-bb21-48ea-9427-f0bae1f5b748",
   "metadata": {},
   "outputs": [
    {
     "data": {
      "text/plain": [
       "list"
      ]
     },
     "execution_count": 1,
     "metadata": {},
     "output_type": "execute_result"
    }
   ],
   "source": [
    "listOne = [1, 2, 3, 4, 5, 6, 7, 8, 9]\n",
    "type(listOne)"
   ]
  },
  {
   "cell_type": "markdown",
   "id": "4528c02e-b8fb-4117-925a-0f7f5f4ac88e",
   "metadata": {},
   "source": [
    "list类型是可变的。"
   ]
  },
  {
   "cell_type": "code",
   "execution_count": 3,
   "id": "d41d542f-5018-47cd-a0a0-6d227cdb6d7c",
   "metadata": {},
   "outputs": [
    {
     "name": "stdout",
     "output_type": "stream",
     "text": [
      "[100, 2, 3, 4, 5, 6, 7, 8, 9]\n"
     ]
    }
   ],
   "source": [
    "listOne[0] = 100\n",
    "print(listOne)"
   ]
  },
  {
   "cell_type": "markdown",
   "id": "bf882768-d90d-4a87-84b6-6b1beab02310",
   "metadata": {},
   "source": [
    "## {} 花括号"
   ]
  },
  {
   "cell_type": "markdown",
   "id": "c440e0be-e124-4819-83e8-1e5343fd0dd3",
   "metadata": {},
   "source": [
    "Python语言中，花括号是用来表示字典数据类型的，字典是Python中唯一内建的映射类型。"
   ]
  },
  {
   "cell_type": "code",
   "execution_count": 6,
   "id": "08c86dfd-bf9d-4429-8e4c-2d0cee9daafc",
   "metadata": {},
   "outputs": [
    {
     "name": "stdout",
     "output_type": "stream",
     "text": [
      "{'keyOne': 'ValueOne', 'keyTwo': 'ValueTwo', 'keyThree': 'ValueThree'}\n"
     ]
    }
   ],
   "source": [
    "dicOne = {\"keyOne\":\"ValueOne\", \"keyTwo\":\"ValueTwo\", \"keyThree\":\"ValueThree\"}\n",
    "print(dicOne)"
   ]
  },
  {
   "cell_type": "markdown",
   "id": "644c83f9-49a1-4392-bbf3-6a72e1251fca",
   "metadata": {},
   "source": [
    "字典中的值没有特殊的顺序，但都是存储在一个特定的键（key）下。键可以是数字、字符串甚至是元组。\n",
    "\n",
    "字典的类型为 dict。"
   ]
  },
  {
   "cell_type": "code",
   "execution_count": 7,
   "id": "9fde9d70-fbac-4d0d-84bb-498a6fe99fd2",
   "metadata": {},
   "outputs": [
    {
     "data": {
      "text/plain": [
       "dict"
      ]
     },
     "execution_count": 7,
     "metadata": {},
     "output_type": "execute_result"
    }
   ],
   "source": [
    "type(dicOne)"
   ]
  },
  {
   "cell_type": "markdown",
   "id": "272e8f93-5fa1-4b2a-a1d1-baee73822163",
   "metadata": {},
   "source": [
    "## () 小括号"
   ]
  },
  {
   "cell_type": "markdown",
   "id": "80bbba1c-5b08-450b-8dd6-4f0a0d3f4efa",
   "metadata": {},
   "source": [
    "Python语言中，小括号() 代表tuple元组数据类型，元祖是一种不可变序列。创建方法很简单，大多数时候都是小括号括起来的。"
   ]
  },
  {
   "cell_type": "code",
   "execution_count": 10,
   "id": "8ea242ca-0c3f-4085-bc24-b310695b8e0d",
   "metadata": {},
   "outputs": [
    {
     "data": {
      "text/plain": [
       "tuple"
      ]
     },
     "execution_count": 10,
     "metadata": {},
     "output_type": "execute_result"
    }
   ],
   "source": [
    "tupleOne = (1, 2, 3, 4, 5, 6, 7, 8, 9, 10)\n",
    "type(tupleOne)"
   ]
  },
  {
   "cell_type": "markdown",
   "id": "1bf24179-71c9-4874-abdd-de909053aee4",
   "metadata": {},
   "source": [
    "元祖是不可变的："
   ]
  },
  {
   "cell_type": "code",
   "execution_count": 15,
   "id": "3694755a-f0ee-4ed1-bfbd-7961089c92c8",
   "metadata": {},
   "outputs": [
    {
     "ename": "TypeError",
     "evalue": "'tuple' object does not support item assignment",
     "output_type": "error",
     "traceback": [
      "\u001b[1;31m---------------------------------------------------------------------------\u001b[0m",
      "\u001b[1;31mTypeError\u001b[0m                                 Traceback (most recent call last)",
      "\u001b[1;32m~\\AppData\\Local\\Temp\\ipykernel_288\\772227779.py\u001b[0m in \u001b[0;36m<module>\u001b[1;34m\u001b[0m\n\u001b[1;32m----> 1\u001b[1;33m \u001b[0mtupleOne\u001b[0m\u001b[1;33m[\u001b[0m\u001b[1;36m1\u001b[0m\u001b[1;33m]\u001b[0m \u001b[1;33m=\u001b[0m \u001b[1;36m12\u001b[0m  \u001b[1;31m# 将会报错\u001b[0m\u001b[1;33m\u001b[0m\u001b[1;33m\u001b[0m\u001b[0m\n\u001b[0m",
      "\u001b[1;31mTypeError\u001b[0m: 'tuple' object does not support item assignment"
     ]
    }
   ],
   "source": [
    "tupleOne[1] = 12  # 将会报错"
   ]
  },
  {
   "cell_type": "markdown",
   "id": "33787930-1f8d-4507-86e0-43f0ed04a8a7",
   "metadata": {},
   "source": [
    "## {}，() 与集合"
   ]
  },
  {
   "cell_type": "markdown",
   "id": "989db127-cb42-400a-aec2-24e9dad61349",
   "metadata": {},
   "source": [
    "在Python语言中，set是一个无序的不重复元素的序列。\n",
    "\n",
    "set的创建方法有两种：\n",
    "\n",
    "1. 大括号{}\n",
    "2. set()"
   ]
  },
  {
   "cell_type": "code",
   "execution_count": 12,
   "id": "39164cbd-31ff-4b0b-850c-3694e2bcd783",
   "metadata": {},
   "outputs": [
    {
     "data": {
      "text/plain": [
       "set"
      ]
     },
     "execution_count": 12,
     "metadata": {},
     "output_type": "execute_result"
    }
   ],
   "source": [
    "setOne = {\"A\", \"B\"}\n",
    "type(setOne)"
   ]
  },
  {
   "cell_type": "code",
   "execution_count": 13,
   "id": "ae56c696-747b-49cd-9d85-4e3c7cd99bc0",
   "metadata": {},
   "outputs": [
    {
     "data": {
      "text/plain": [
       "set"
      ]
     },
     "execution_count": 13,
     "metadata": {},
     "output_type": "execute_result"
    }
   ],
   "source": [
    "setTwo = set()\n",
    "type(setTwo)"
   ]
  },
  {
   "cell_type": "markdown",
   "id": "eb7632f2-f4b3-4278-975c-a0d2e948a6eb",
   "metadata": {},
   "source": [
    "当使用{}来创建集合的时候，可以发现括号中的内容并不是 key-value 形式的键值对，而是单纯的数据或者变量。\n",
    "\n",
    "如果创建的时候是空集合，则不能够使用{}，而是必须使用set()，如果使用{}，会被默认是空字典"
   ]
  },
  {
   "cell_type": "code",
   "execution_count": 14,
   "id": "70094ea8-5161-4938-86e1-fb25b8f326e4",
   "metadata": {},
   "outputs": [
    {
     "data": {
      "text/plain": [
       "dict"
      ]
     },
     "execution_count": 14,
     "metadata": {},
     "output_type": "execute_result"
    }
   ],
   "source": [
    "setThree = {}\n",
    "type(setThree)"
   ]
  }
 ],
 "metadata": {
  "kernelspec": {
   "display_name": "Python 3 (ipykernel)",
   "language": "python",
   "name": "python3"
  },
  "language_info": {
   "codemirror_mode": {
    "name": "ipython",
    "version": 3
   },
   "file_extension": ".py",
   "mimetype": "text/x-python",
   "name": "python",
   "nbconvert_exporter": "python",
   "pygments_lexer": "ipython3",
   "version": "3.7.9"
  }
 },
 "nbformat": 4,
 "nbformat_minor": 5
}
