{
 "cells": [
  {
   "attachments": {
    "5cd0f89f-6320-4347-af82-dffae3899f56.png": {
     "image/png": "[encoded data removed]"
    }
   },
   "cell_type": "markdown",
   "id": "1bf496c6-d476-4b7f-9b0a-9962fcbbdfcc",
   "metadata": {},
   "source": [
    "## 常用函数\n",
    "\n",
    "random模块有着几个常用的函数，如下表所示：\n",
    "\n",
    "![image.png](attachment:5cd0f89f-6320-4347-af82-dffae3899f56.png)\n",
    "\n"
   ]
  },
  {
   "cell_type": "markdown",
   "id": "b4dca479-de5a-4d7f-ad70-d4878b587324",
   "metadata": {},
   "source": [
    "## 常用函数实例\n",
    "\n",
    "**random.random()**\n",
    "\n",
    "生成一个0~1的随机浮点数："
   ]
  },
  {
   "cell_type": "code",
   "execution_count": 1,
   "id": "9e2b6ac1-5587-4f13-843a-b6a8d8c1ffda",
   "metadata": {},
   "outputs": [],
   "source": [
    "# 导入random第三方哭\n",
    "import random"
   ]
  },
  {
   "cell_type": "code",
   "execution_count": 2,
   "id": "e7c0441d-040d-4a0c-8f51-5ee73166f457",
   "metadata": {},
   "outputs": [
    {
     "name": "stdout",
     "output_type": "stream",
     "text": [
      "0.1272568331180094\n",
      "0.5194403144310314\n",
      "0.0720554421859434\n"
     ]
    }
   ],
   "source": [
    "a = random.random()\n",
    "b = random.random()\n",
    "c = random.random()\n",
    "\n",
    "print(a)\n",
    "print(b)\n",
    "print(c)"
   ]
  },
  {
   "cell_type": "markdown",
   "id": "fc86e323-8075-48e8-865a-bf726d314a52",
   "metadata": {},
   "source": [
    "**random.randint(a,b)**\n",
    "\n",
    "randint是包含a和b两个边界值，我们可以测试一下："
   ]
  },
  {
   "cell_type": "code",
   "execution_count": 8,
   "id": "d7955751-5c89-4c9e-8592-7424c1fb65d4",
   "metadata": {},
   "outputs": [
    {
     "name": "stdout",
     "output_type": "stream",
     "text": [
      "2\n",
      "3\n",
      "3\n"
     ]
    }
   ],
   "source": [
    "a = random.randint(1,3)\n",
    "b = random.randint(1,3)\n",
    "c = random.randint(1,3)\n",
    "\n",
    "print(a)\n",
    "print(b)\n",
    "print(c)"
   ]
  },
  {
   "cell_type": "markdown",
   "id": "eeb07f9c-c584-4cfe-831f-e19ae44870cf",
   "metadata": {},
   "source": [
    "**random.randrange(a,b)**\n",
    "\n",
    "randrange(a,b)不包含b这个边界，但是包含a这个边界："
   ]
  },
  {
   "cell_type": "code",
   "execution_count": 10,
   "id": "65ad8308-1682-4e0a-8695-4baaf07421e7",
   "metadata": {},
   "outputs": [
    {
     "name": "stdout",
     "output_type": "stream",
     "text": [
      "2\n",
      "1\n",
      "2\n"
     ]
    }
   ],
   "source": [
    "a = random.randrange(1,3)\n",
    "b = random.randrange(1,3)\n",
    "c = random.randrange(1,3)\n",
    "\n",
    "print(a)\n",
    "print(b)\n",
    "print(c)"
   ]
  },
  {
   "cell_type": "markdown",
   "id": "f8add8cb-5a7e-4a3b-b3fe-410c2f87a516",
   "metadata": {},
   "source": [
    "**random.shuffle(x)**\n",
    "\n",
    "random.shuffle(x)函数可以将一个序列进行重新排序，但是序列必须是可改变的序列"
   ]
  },
  {
   "cell_type": "code",
   "execution_count": 11,
   "id": "5bbf6abf-8387-4917-b239-e3c917607e84",
   "metadata": {},
   "outputs": [
    {
     "name": "stdout",
     "output_type": "stream",
     "text": [
      "['a', 'b', 'c', 'd', 'e', 'f', 'g']\n",
      "['a', 'g', 'c', 'e', 'f', 'b', 'd']\n"
     ]
    }
   ],
   "source": [
    "l = ['a', 'b', 'c', 'd', 'e', 'f', 'g']\n",
    "print(l)\n",
    "\n",
    "random.shuffle(l)\n",
    "print(l)"
   ]
  },
  {
   "cell_type": "markdown",
   "id": "398aa373-4dba-44d4-af23-5fd5efe18011",
   "metadata": {},
   "source": [
    "**random.choice(x)**\n",
    "\n",
    "random.choice(x)可以从序列中随机抽取一个数字进行返回："
   ]
  },
  {
   "cell_type": "code",
   "execution_count": 20,
   "id": "4c93330e-d69b-40a4-bc6d-a0c82d627172",
   "metadata": {},
   "outputs": [
    {
     "name": "stdout",
     "output_type": "stream",
     "text": [
      "10\n"
     ]
    }
   ],
   "source": [
    "a = [1, 2, 3, 4, 5, 6, 7, 8, 9, 10]\n",
    "print(random.choice(a))"
   ]
  },
  {
   "cell_type": "markdown",
   "id": "6310f39d-18d0-4f98-abb6-ef11cb6a86ec",
   "metadata": {},
   "source": [
    "**random.uniform(a,b)**\n",
    "\n",
    "用于生成指定范围内的随机浮点数："
   ]
  },
  {
   "cell_type": "code",
   "execution_count": 22,
   "id": "8ba18da4-60a0-4fb1-aeff-0d9b9cba51d1",
   "metadata": {},
   "outputs": [
    {
     "name": "stdout",
     "output_type": "stream",
     "text": [
      "1.392979842562033\n",
      "2.0697801706811783\n",
      "2.707508337947999\n"
     ]
    }
   ],
   "source": [
    "a = random.uniform(1, 3)\n",
    "b = random.uniform(1, 3)\n",
    "c = random.uniform(1, 3)\n",
    "\n",
    "\n",
    "print(a)\n",
    "print(b)\n",
    "print(c)"
   ]
  }
 ],
 "metadata": {
  "kernelspec": {
   "display_name": "Python 3 (ipykernel)",
   "language": "python",
   "name": "python3"
  },
  "language_info": {
   "codemirror_mode": {
    "name": "ipython",
    "version": 3
   },
   "file_extension": ".py",
   "mimetype": "text/x-python",
   "name": "python",
   "nbconvert_exporter": "python",
   "pygments_lexer": "ipython3",
   "version": "3.7.9"
  }
 },
 "nbformat": 4,
 "nbformat_minor": 5
}
