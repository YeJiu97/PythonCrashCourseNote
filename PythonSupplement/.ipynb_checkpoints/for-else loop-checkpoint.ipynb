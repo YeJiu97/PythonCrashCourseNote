{
 "cells": [
  {
   "cell_type": "markdown",
   "id": "b9a94499",
   "metadata": {},
   "source": [
    "## if-else和for语句\n",
    "\n",
    "Python语言像其他的语言一样提供了if-else语句来进行条件判断："
   ]
  },
  {
   "cell_type": "code",
   "execution_count": 13,
   "id": "242e7d2f",
   "metadata": {},
   "outputs": [
    {
     "name": "stdout",
     "output_type": "stream",
     "text": [
      "及格\n"
     ]
    }
   ],
   "source": [
    "score = 65\n",
    "\n",
    "if score >= 60:\n",
    "    print(\"及格\")\n",
    "else:\n",
    "    print(\"不及格\")"
   ]
  },
  {
   "cell_type": "markdown",
   "id": "44e2aa6b",
   "metadata": {},
   "source": [
    "同样的Python可以提供了对多个条件进行判断的if-elif-elif-else语句："
   ]
  },
  {
   "cell_type": "code",
   "execution_count": 14,
   "id": "404ac08b",
   "metadata": {},
   "outputs": [
    {
     "name": "stdout",
     "output_type": "stream",
     "text": [
      "表现优秀\n"
     ]
    }
   ],
   "source": [
    "score = 85\n",
    "\n",
    "if score < 60:\n",
    "    print(\"不及格\")\n",
    "elif score >= 60 and score <=80:\n",
    "    print(\"表现的不错\")\n",
    "else:\n",
    "    print(\"表现优秀\")"
   ]
  },
  {
   "cell_type": "markdown",
   "id": "c522b5b2",
   "metadata": {},
   "source": [
    "接着让我们来看一下for循环语句："
   ]
  },
  {
   "cell_type": "code",
   "execution_count": 15,
   "id": "f80cb434",
   "metadata": {},
   "outputs": [
    {
     "name": "stdout",
     "output_type": "stream",
     "text": [
      "0\n",
      "1\n",
      "2\n",
      "3\n",
      "4\n",
      "5\n",
      "6\n",
      "7\n",
      "8\n",
      "9\n"
     ]
    }
   ],
   "source": [
    "for i in range(10):\n",
    "    print(i)"
   ]
  },
  {
   "cell_type": "code",
   "execution_count": 16,
   "id": "e2cd2411",
   "metadata": {},
   "outputs": [
    {
     "name": "stdout",
     "output_type": "stream",
     "text": [
      "9\n",
      "8\n",
      "7\n",
      "6\n",
      "5\n",
      "4\n",
      "3\n",
      "2\n",
      "1\n"
     ]
    }
   ],
   "source": [
    "word = \"987654321\"\n",
    "\n",
    "for w in word:\n",
    "    print(w)"
   ]
  },
  {
   "cell_type": "code",
   "execution_count": 17,
   "id": "eb3c25e7",
   "metadata": {},
   "outputs": [
    {
     "name": "stdout",
     "output_type": "stream",
     "text": [
      "1\n",
      "2\n",
      "3\n",
      "4\n",
      "5\n",
      "6\n",
      "10\n"
     ]
    }
   ],
   "source": [
    "num_list = [1, 2, 3, 4, 5, 6, 10]\n",
    "\n",
    "for num in num_list:\n",
    "    print(num)"
   ]
  },
  {
   "cell_type": "markdown",
   "id": "9c74e10d",
   "metadata": {},
   "source": [
    "## for-else语句\n",
    "\n",
    "接着让我们来思考一个问题：for-else是用来做什么的？\n",
    "\n",
    "我们可以来看一段这样的代码：\n",
    "\n",
    "```python\n",
    "\n",
    "for i in range(10):\n",
    "    if i % 2 == 0:\n",
    "        print(i)\n",
    "else:\n",
    "    print(\"else statement\")\n",
    "    \n",
    "```\n",
    "\n",
    "请问else代码块的语句print(\"else statement\")会被执行吗？"
   ]
  },
  {
   "cell_type": "code",
   "execution_count": 18,
   "id": "f4cc17f5",
   "metadata": {},
   "outputs": [
    {
     "name": "stdout",
     "output_type": "stream",
     "text": [
      "0\n",
      "2\n",
      "4\n",
      "6\n",
      "8\n",
      "else statement\n"
     ]
    }
   ],
   "source": [
    "for i in range(10):\n",
    "    if i % 2 == 0:\n",
    "        print(i)\n",
    "else:\n",
    "    print(\"else statement\")"
   ]
  },
  {
   "cell_type": "markdown",
   "id": "1fb8f4e2",
   "metadata": {},
   "source": [
    "我们通过运行可以发现else代码块种的内容是被运行了的，并不会因为for循环中的内容被运行而导致了else种的代码被跳过。\n",
    "\n",
    "if … else … 翻译成白话就是 如果…否则…，而 for…else… 翻译成白话成了 直到… 然后 …，为什么不把它写成 for…then… 的句式呢？"
   ]
  },
  {
   "cell_type": "code",
   "execution_count": 19,
   "id": "3854576c",
   "metadata": {},
   "outputs": [
    {
     "name": "stdout",
     "output_type": "stream",
     "text": [
      "else statement\n"
     ]
    }
   ],
   "source": [
    "listOne = []\n",
    "for i in listOne:\n",
    "    if i % 2 == 0:\n",
    "        print(i)\n",
    "else:\n",
    "    print(\"else statement\")"
   ]
  },
  {
   "cell_type": "markdown",
   "id": "b06a1ca6",
   "metadata": {},
   "source": [
    "我们还可以发现，哪怕for循环遍历的是一个空列表也会执行 else 语句块。\n",
    "\n",
    "接着我们再来探索一下：如果for循环被break终止了呢？"
   ]
  },
  {
   "cell_type": "code",
   "execution_count": 20,
   "id": "026162b3",
   "metadata": {},
   "outputs": [
    {
     "name": "stdout",
     "output_type": "stream",
     "text": [
      "0\n"
     ]
    }
   ],
   "source": [
    "for i in range(10):\n",
    "    if i % 2 == 0:\n",
    "        print(i)\n",
    "        break\n",
    "else:\n",
    "    print(\"else statement\")"
   ]
  },
  {
   "cell_type": "markdown",
   "id": "39bea6ec",
   "metadata": {},
   "source": [
    "我们可以发现else语句没有被执行了。\n",
    "\n",
    "综上，我们可以得出这样一个结论，只有当循环里没有遇到 break 时，else 块才会执行。此刻，你应该明白了，真正和 else 搭配使用的是 for 循环中的 break，break ... else ... 才是两个互斥的条件。\n",
    "\n",
    "为什么要搞出这样的一种语法糖出来呢？\n",
    "\n",
    "当你用 for 循环迭代查找列表的中的某个元素时，如果找到了就立刻退出循环，如果迭代完了列表还没找到需要以另外一种形式（比如异常）的方式通知调用者时，用 for...else... 无疑是最好的选择。"
   ]
  },
  {
   "cell_type": "code",
   "execution_count": null,
   "id": "56d52e6d",
   "metadata": {},
   "outputs": [],
   "source": [
    "for i in mylist:\n",
    "    if i == target:\n",
    "        break\n",
    "    process(i)\n",
    "else:\n",
    "    raise ValueError(\"List argument missing terminal flag.\")"
   ]
  },
  {
   "cell_type": "markdown",
   "id": "e2a9c24e",
   "metadata": {},
   "source": [
    "如果不用 for...else... ， 那么还需要专门建立一个临时标记变量来标记是否已经找到了"
   ]
  }
 ],
 "metadata": {
  "kernelspec": {
   "display_name": "Python 3 (ipykernel)",
   "language": "python",
   "name": "python3"
  },
  "language_info": {
   "codemirror_mode": {
    "name": "ipython",
    "version": 3
   },
   "file_extension": ".py",
   "mimetype": "text/x-python",
   "name": "python",
   "nbconvert_exporter": "python",
   "pygments_lexer": "ipython3",
   "version": "3.7.9"
  }
 },
 "nbformat": 4,
 "nbformat_minor": 5
}
